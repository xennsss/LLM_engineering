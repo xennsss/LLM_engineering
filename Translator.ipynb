{
 "cells": [
  {
   "cell_type": "markdown",
   "id": "d006b2ea-9dfe-49c7-88a9-a5a0775185fd",
   "metadata": {},
   "source": [
    "# Additional End of week Exercise - week 2\n",
    "\n",
    "Now use everything you've learned from Week 2 to build a full prototype for the technical question/answerer you built in Week 1 Exercise.\n",
    "\n",
    "This should include a Gradio UI, streaming, use of the system prompt to add expertise, and the ability to switch between models. Bonus points if you can demonstrate use of a tool!\n",
    "\n",
    "If you feel bold, see if you can add audio input so you can talk to it, and have it respond with audio. ChatGPT or Claude can help you, or email me if you have questions.\n",
    "\n",
    "I will publish a full solution here soon - unless someone beats me to it...\n",
    "\n",
    "There are so many commercial applications for this, from a language tutor, to a company onboarding solution, to a companion AI to a course (like this one!) I can't wait to see your results."
   ]
  },
  {
   "cell_type": "code",
   "execution_count": 2,
   "id": "ddfd3d49-34f8-4392-8257-bff08a9a36ea",
   "metadata": {},
   "outputs": [
    {
     "name": "stdout",
     "output_type": "stream",
     "text": [
      "Requirement already satisfied: gradio in c:\\users\\xenia\\anaconda3\\lib\\site-packages (5.17.1)\n",
      "Requirement already satisfied: aiofiles<24.0,>=22.0 in c:\\users\\xenia\\anaconda3\\lib\\site-packages (from gradio) (23.2.1)\n",
      "Requirement already satisfied: anyio<5.0,>=3.0 in c:\\users\\xenia\\anaconda3\\lib\\site-packages (from gradio) (4.2.0)\n",
      "Requirement already satisfied: fastapi<1.0,>=0.115.2 in c:\\users\\xenia\\anaconda3\\lib\\site-packages (from gradio) (0.115.8)\n",
      "Requirement already satisfied: ffmpy in c:\\users\\xenia\\anaconda3\\lib\\site-packages (from gradio) (0.5.0)\n",
      "Requirement already satisfied: gradio-client==1.7.1 in c:\\users\\xenia\\anaconda3\\lib\\site-packages (from gradio) (1.7.1)\n",
      "Requirement already satisfied: httpx>=0.24.1 in c:\\users\\xenia\\anaconda3\\lib\\site-packages (from gradio) (0.27.0)\n",
      "Requirement already satisfied: huggingface-hub>=0.28.1 in c:\\users\\xenia\\anaconda3\\lib\\site-packages (from gradio) (0.29.1)\n",
      "Requirement already satisfied: jinja2<4.0 in c:\\users\\xenia\\anaconda3\\lib\\site-packages (from gradio) (3.1.4)\n",
      "Requirement already satisfied: markupsafe~=2.0 in c:\\users\\xenia\\anaconda3\\lib\\site-packages (from gradio) (2.1.3)\n",
      "Requirement already satisfied: numpy<3.0,>=1.0 in c:\\users\\xenia\\anaconda3\\lib\\site-packages (from gradio) (1.26.4)\n",
      "Requirement already satisfied: orjson~=3.0 in c:\\users\\xenia\\anaconda3\\lib\\site-packages (from gradio) (3.10.15)\n",
      "Requirement already satisfied: packaging in c:\\users\\xenia\\anaconda3\\lib\\site-packages (from gradio) (24.1)\n",
      "Requirement already satisfied: pandas<3.0,>=1.0 in c:\\users\\xenia\\anaconda3\\lib\\site-packages (from gradio) (2.2.2)\n",
      "Requirement already satisfied: pillow<12.0,>=8.0 in c:\\users\\xenia\\anaconda3\\lib\\site-packages (from gradio) (10.4.0)\n",
      "Requirement already satisfied: pydantic>=2.0 in c:\\users\\xenia\\anaconda3\\lib\\site-packages (from gradio) (2.10.6)\n",
      "Requirement already satisfied: pydub in c:\\users\\xenia\\anaconda3\\lib\\site-packages (from gradio) (0.25.1)\n",
      "Requirement already satisfied: python-multipart>=0.0.18 in c:\\users\\xenia\\anaconda3\\lib\\site-packages (from gradio) (0.0.20)\n",
      "Requirement already satisfied: pyyaml<7.0,>=5.0 in c:\\users\\xenia\\anaconda3\\lib\\site-packages (from gradio) (6.0.1)\n",
      "Requirement already satisfied: ruff>=0.9.3 in c:\\users\\xenia\\anaconda3\\lib\\site-packages (from gradio) (0.9.7)\n",
      "Requirement already satisfied: safehttpx<0.2.0,>=0.1.6 in c:\\users\\xenia\\anaconda3\\lib\\site-packages (from gradio) (0.1.6)\n",
      "Requirement already satisfied: semantic-version~=2.0 in c:\\users\\xenia\\anaconda3\\lib\\site-packages (from gradio) (2.10.0)\n",
      "Requirement already satisfied: starlette<1.0,>=0.40.0 in c:\\users\\xenia\\anaconda3\\lib\\site-packages (from gradio) (0.45.3)\n",
      "Requirement already satisfied: tomlkit<0.14.0,>=0.12.0 in c:\\users\\xenia\\anaconda3\\lib\\site-packages (from gradio) (0.13.2)\n",
      "Requirement already satisfied: typer<1.0,>=0.12 in c:\\users\\xenia\\anaconda3\\lib\\site-packages (from gradio) (0.15.1)\n",
      "Requirement already satisfied: typing-extensions~=4.0 in c:\\users\\xenia\\anaconda3\\lib\\site-packages (from gradio) (4.12.2)\n",
      "Requirement already satisfied: uvicorn>=0.14.0 in c:\\users\\xenia\\anaconda3\\lib\\site-packages (from gradio) (0.34.0)\n",
      "Requirement already satisfied: fsspec in c:\\users\\xenia\\anaconda3\\lib\\site-packages (from gradio-client==1.7.1->gradio) (2024.6.1)\n",
      "Requirement already satisfied: websockets<15.0,>=10.0 in c:\\users\\xenia\\anaconda3\\lib\\site-packages (from gradio-client==1.7.1->gradio) (14.2)\n",
      "Requirement already satisfied: idna>=2.8 in c:\\users\\xenia\\anaconda3\\lib\\site-packages (from anyio<5.0,>=3.0->gradio) (3.7)\n",
      "Requirement already satisfied: sniffio>=1.1 in c:\\users\\xenia\\anaconda3\\lib\\site-packages (from anyio<5.0,>=3.0->gradio) (1.3.0)\n",
      "Requirement already satisfied: certifi in c:\\users\\xenia\\anaconda3\\lib\\site-packages (from httpx>=0.24.1->gradio) (2024.12.14)\n",
      "Requirement already satisfied: httpcore==1.* in c:\\users\\xenia\\anaconda3\\lib\\site-packages (from httpx>=0.24.1->gradio) (1.0.2)\n",
      "Requirement already satisfied: h11<0.15,>=0.13 in c:\\users\\xenia\\anaconda3\\lib\\site-packages (from httpcore==1.*->httpx>=0.24.1->gradio) (0.14.0)\n",
      "Requirement already satisfied: filelock in c:\\users\\xenia\\anaconda3\\lib\\site-packages (from huggingface-hub>=0.28.1->gradio) (3.13.1)\n",
      "Requirement already satisfied: requests in c:\\users\\xenia\\anaconda3\\lib\\site-packages (from huggingface-hub>=0.28.1->gradio) (2.32.3)\n",
      "Requirement already satisfied: tqdm>=4.42.1 in c:\\users\\xenia\\anaconda3\\lib\\site-packages (from huggingface-hub>=0.28.1->gradio) (4.66.5)\n",
      "Requirement already satisfied: python-dateutil>=2.8.2 in c:\\users\\xenia\\anaconda3\\lib\\site-packages (from pandas<3.0,>=1.0->gradio) (2.9.0.post0)\n",
      "Requirement already satisfied: pytz>=2020.1 in c:\\users\\xenia\\anaconda3\\lib\\site-packages (from pandas<3.0,>=1.0->gradio) (2024.1)\n",
      "Requirement already satisfied: tzdata>=2022.7 in c:\\users\\xenia\\anaconda3\\lib\\site-packages (from pandas<3.0,>=1.0->gradio) (2023.3)\n",
      "Requirement already satisfied: annotated-types>=0.6.0 in c:\\users\\xenia\\anaconda3\\lib\\site-packages (from pydantic>=2.0->gradio) (0.6.0)\n",
      "Requirement already satisfied: pydantic-core==2.27.2 in c:\\users\\xenia\\anaconda3\\lib\\site-packages (from pydantic>=2.0->gradio) (2.27.2)\n",
      "Requirement already satisfied: click>=8.0.0 in c:\\users\\xenia\\anaconda3\\lib\\site-packages (from typer<1.0,>=0.12->gradio) (8.1.7)\n",
      "Requirement already satisfied: shellingham>=1.3.0 in c:\\users\\xenia\\anaconda3\\lib\\site-packages (from typer<1.0,>=0.12->gradio) (1.5.0)\n",
      "Requirement already satisfied: rich>=10.11.0 in c:\\users\\xenia\\anaconda3\\lib\\site-packages (from typer<1.0,>=0.12->gradio) (13.7.1)\n",
      "Requirement already satisfied: colorama in c:\\users\\xenia\\anaconda3\\lib\\site-packages (from click>=8.0.0->typer<1.0,>=0.12->gradio) (0.4.6)\n",
      "Requirement already satisfied: six>=1.5 in c:\\users\\xenia\\anaconda3\\lib\\site-packages (from python-dateutil>=2.8.2->pandas<3.0,>=1.0->gradio) (1.16.0)\n",
      "Requirement already satisfied: markdown-it-py>=2.2.0 in c:\\users\\xenia\\anaconda3\\lib\\site-packages (from rich>=10.11.0->typer<1.0,>=0.12->gradio) (2.2.0)\n",
      "Requirement already satisfied: pygments<3.0.0,>=2.13.0 in c:\\users\\xenia\\anaconda3\\lib\\site-packages (from rich>=10.11.0->typer<1.0,>=0.12->gradio) (2.15.1)\n",
      "Requirement already satisfied: charset-normalizer<4,>=2 in c:\\users\\xenia\\anaconda3\\lib\\site-packages (from requests->huggingface-hub>=0.28.1->gradio) (3.3.2)\n",
      "Requirement already satisfied: urllib3<3,>=1.21.1 in c:\\users\\xenia\\anaconda3\\lib\\site-packages (from requests->huggingface-hub>=0.28.1->gradio) (2.2.3)\n",
      "Requirement already satisfied: mdurl~=0.1 in c:\\users\\xenia\\anaconda3\\lib\\site-packages (from markdown-it-py>=2.2.0->rich>=10.11.0->typer<1.0,>=0.12->gradio) (0.1.0)\n"
     ]
    }
   ],
   "source": [
    "!pip install gradio\n"
   ]
  },
  {
   "cell_type": "code",
   "execution_count": 4,
   "id": "a07e7793-b8f5-44f4-aded-5562f633271a",
   "metadata": {},
   "outputs": [],
   "source": [
    "# imports\n",
    "\n",
    "from dotenv import load_dotenv\n",
    "from IPython.display import Markdown, display, update_display\n",
    "from openai import OpenAI\n",
    "import gradio as gr\n",
    "import ollama"
   ]
  },
  {
   "cell_type": "code",
   "execution_count": 6,
   "id": "320e1472-110b-4af3-a256-016fd3dfaed2",
   "metadata": {},
   "outputs": [],
   "source": [
    "from openai import OpenAI\n",
    "MODEL = \"llama3.2\"\n",
    "openai = OpenAI(base_url=\"http://localhost:11434/v1\", api_key=\"ollama\")"
   ]
  },
  {
   "cell_type": "code",
   "execution_count": 8,
   "id": "9afbb353-50bb-45c3-8de0-93afe7ce1f5e",
   "metadata": {},
   "outputs": [],
   "source": [
    "system_prompt =  \"You are a helpful assistant that answers tchnical questions.\"\n",
    "system_prompt += \"Always be accurate. If you don't know or not sure about some information, say so.\""
   ]
  },
  {
   "cell_type": "code",
   "execution_count": 12,
   "id": "11a6a06a-f464-48d6-bd1a-2cebee749c63",
   "metadata": {},
   "outputs": [
    {
     "name": "stdout",
     "output_type": "stream",
     "text": [
      "Requirement already satisfied: deep_translator in c:\\users\\xenia\\anaconda3\\lib\\site-packages (1.11.4)\n",
      "Requirement already satisfied: beautifulsoup4<5.0.0,>=4.9.1 in c:\\users\\xenia\\anaconda3\\lib\\site-packages (from deep_translator) (4.12.3)\n",
      "Requirement already satisfied: requests<3.0.0,>=2.23.0 in c:\\users\\xenia\\anaconda3\\lib\\site-packages (from deep_translator) (2.32.3)\n",
      "Requirement already satisfied: soupsieve>1.2 in c:\\users\\xenia\\anaconda3\\lib\\site-packages (from beautifulsoup4<5.0.0,>=4.9.1->deep_translator) (2.5)\n",
      "Requirement already satisfied: charset-normalizer<4,>=2 in c:\\users\\xenia\\anaconda3\\lib\\site-packages (from requests<3.0.0,>=2.23.0->deep_translator) (3.3.2)\n",
      "Requirement already satisfied: idna<4,>=2.5 in c:\\users\\xenia\\anaconda3\\lib\\site-packages (from requests<3.0.0,>=2.23.0->deep_translator) (3.7)\n",
      "Requirement already satisfied: urllib3<3,>=1.21.1 in c:\\users\\xenia\\anaconda3\\lib\\site-packages (from requests<3.0.0,>=2.23.0->deep_translator) (2.2.3)\n",
      "Requirement already satisfied: certifi>=2017.4.17 in c:\\users\\xenia\\anaconda3\\lib\\site-packages (from requests<3.0.0,>=2.23.0->deep_translator) (2024.12.14)\n"
     ]
    }
   ],
   "source": [
    "!pip install deep_translator"
   ]
  },
  {
   "cell_type": "code",
   "execution_count": 14,
   "id": "ca47ca56-5013-458e-bd27-3c0be4db4c22",
   "metadata": {},
   "outputs": [],
   "source": [
    "from deep_translator import GoogleTranslator\n",
    "\n",
    "# First install deep_translator:\n",
    "# pip install deep_translator\n",
    "\n",
    "# Top 10 most spoken languages with their codes\n",
    "LANGUAGES = {\n",
    "    \"English\": \"en\",\n",
    "    \"Mandarin Chinese\": \"zh-CN\",\n",
    "    \"Hindi\": \"hi\",\n",
    "    \"Spanish\": \"es\",\n",
    "    \"Arabic\": \"ar\",\n",
    "    \"Bengali\": \"bn\",\n",
    "    \"Portuguese\": \"pt\",\n",
    "    \"Russian\": \"ru\",\n",
    "    \"Japanese\": \"ja\",\n",
    "    \"German\": \"de\"\n",
    "}"
   ]
  },
  {
   "cell_type": "code",
   "execution_count": 16,
   "id": "c08e67d0-9a3e-4251-9dc4-ac0bef648b97",
   "metadata": {},
   "outputs": [],
   "source": [
    "def translate_message(text, target_lang):\n",
    "    if target_lang == \"en\":\n",
    "        return text\n",
    "    try:\n",
    "        translator = GoogleTranslator(source='auto', target=target_lang)\n",
    "        return translator.translate(text)\n",
    "    except:\n",
    "        return f\"Translation error: {text}\""
   ]
  },
  {
   "cell_type": "code",
   "execution_count": 18,
   "id": "c82c63fe-fcae-4535-8512-fa913a377691",
   "metadata": {},
   "outputs": [],
   "source": [
    "def chat(message, history):\n",
    "    # Original chat processing\n",
    "    messages = [{\"role\": \"system\", \"content\": system_prompt}] + history + [{\"role\": \"user\", \"content\": message}] \n",
    "    response = openai.chat.completions.create(model = MODEL, messages = messages)\n",
    "    response_text = response.choices[0].message.content\n",
    "    \n",
    "    if chat_state.speak:\n",
    "        talker(response_text)\n",
    "    \n",
    "    # Translate messages\n",
    "    translated_message = translate_message(message, chat_state.target_lang)\n",
    "    translated_response = translate_message(response_text, chat_state.target_lang)\n",
    "    \n",
    "    gr.Chatbot.update(value=[(translated_message, translated_response)], visible=True)\n",
    "    \n",
    "    return response_text"
   ]
  },
  {
   "cell_type": "code",
   "execution_count": 20,
   "id": "ca870641-c2c1-48eb-a54c-86c26624bc28",
   "metadata": {},
   "outputs": [
    {
     "name": "stdout",
     "output_type": "stream",
     "text": [
      "Requirement already satisfied: gTTS in c:\\users\\xenia\\anaconda3\\lib\\site-packages (2.5.4)\n",
      "Requirement already satisfied: requests<3,>=2.27 in c:\\users\\xenia\\anaconda3\\lib\\site-packages (from gTTS) (2.32.3)\n",
      "Requirement already satisfied: click<8.2,>=7.1 in c:\\users\\xenia\\anaconda3\\lib\\site-packages (from gTTS) (8.1.7)\n",
      "Requirement already satisfied: colorama in c:\\users\\xenia\\anaconda3\\lib\\site-packages (from click<8.2,>=7.1->gTTS) (0.4.6)\n",
      "Requirement already satisfied: charset-normalizer<4,>=2 in c:\\users\\xenia\\anaconda3\\lib\\site-packages (from requests<3,>=2.27->gTTS) (3.3.2)\n",
      "Requirement already satisfied: idna<4,>=2.5 in c:\\users\\xenia\\anaconda3\\lib\\site-packages (from requests<3,>=2.27->gTTS) (3.7)\n",
      "Requirement already satisfied: urllib3<3,>=1.21.1 in c:\\users\\xenia\\anaconda3\\lib\\site-packages (from requests<3,>=2.27->gTTS) (2.2.3)\n",
      "Requirement already satisfied: certifi>=2017.4.17 in c:\\users\\xenia\\anaconda3\\lib\\site-packages (from requests<3,>=2.27->gTTS) (2024.12.14)\n"
     ]
    }
   ],
   "source": [
    "# allows you to convert text into speech using Google's Text-to-Speech API\n",
    "!pip install gTTS"
   ]
  },
  {
   "cell_type": "code",
   "execution_count": 21,
   "id": "2d5c4616-b5dd-40b9-8f46-19ca880d48df",
   "metadata": {},
   "outputs": [],
   "source": [
    "from gtts import gTTS\n",
    "import os\n",
    "import tempfile\n",
    "\n",
    "def text_to_speech(text, lang_code):\n",
    "    try:\n",
    "        tts = gTTS(text=text, lang=lang_code)\n",
    "        # Create temporary file\n",
    "        with tempfile.NamedTemporaryFile(delete=False, suffix='.mp3') as fp:\n",
    "            tts.save(fp.name)\n",
    "            return fp.name\n",
    "    except:\n",
    "        return None"
   ]
  },
  {
   "cell_type": "code",
   "execution_count": 24,
   "id": "4b986122-39d9-4bad-ab0f-a527e8ffa573",
   "metadata": {},
   "outputs": [],
   "source": [
    "    def respond(message, history):\n",
    "        bot_response, history_original, history_translated = process_message(\n",
    "            message, \n",
    "            history, \n",
    "            'translated' if speech_language.value.lower() == 'translated' else 'original'\n",
    "        )\n",
    "        return \"\", history_original, history_translated"
   ]
  },
  {
   "cell_type": "code",
   "execution_count": 26,
   "id": "2555c62b-b698-4ef6-b541-14712a8068fc",
   "metadata": {},
   "outputs": [
    {
     "name": "stdout",
     "output_type": "stream",
     "text": [
      "* Running on local URL:  http://127.0.0.1:7860\n",
      "\n",
      "To create a public link, set `share=True` in `launch()`.\n"
     ]
    },
    {
     "data": {
      "text/html": [
       "<div><iframe src=\"http://127.0.0.1:7860/\" width=\"100%\" height=\"500\" allow=\"autoplay; camera; microphone; clipboard-read; clipboard-write;\" frameborder=\"0\" allowfullscreen></iframe></div>"
      ],
      "text/plain": [
       "<IPython.core.display.HTML object>"
      ]
     },
     "metadata": {},
     "output_type": "display_data"
    },
    {
     "data": {
      "text/plain": []
     },
     "execution_count": 26,
     "metadata": {},
     "output_type": "execute_result"
    }
   ],
   "source": [
    "def process_message(message, history, speech_mode):\n",
    "    messages = [{\"role\": \"system\", \"content\": system_message}] + history + [{\"role\": \"user\", \"content\": message}] \n",
    "    response = openai.chat.completions.create(model = MODEL, messages = messages)\n",
    "    response_text = response.choices[0].message.content\n",
    "    \n",
    "    # Create audio if speech is enabled\n",
    "    audio_path = None\n",
    "    if chat_state.speak:\n",
    "        if speech_mode == \"Translated\":\n",
    "            translated_text = translate_message(response_text, chat_state.target_lang)\n",
    "            audio_path = text_to_speech(translated_text, chat_state.target_lang)\n",
    "        else:\n",
    "            talker(response_text)\n",
    "    \n",
    "    # Translate messages for display\n",
    "    translated_message = translate_message(message, chat_state.target_lang)\n",
    "    translated_response = translate_message(response_text, chat_state.target_lang)\n",
    "    \n",
    "    history_original = history + [\n",
    "        {\"role\": \"user\", \"content\": message},\n",
    "        {\"role\": \"assistant\", \"content\": response_text}\n",
    "    ]\n",
    "    history_translated = [\n",
    "        {\"role\": \"user\", \"content\": translated_message},\n",
    "        {\"role\": \"assistant\", \"content\": translated_response}\n",
    "    ]\n",
    "    \n",
    "    return response_text, history_original, history_translated, audio_path\n",
    "\n",
    "with gr.Blocks() as demo:\n",
    "    speech_mode = gr.State(\"Original\")\n",
    "    \n",
    "    with gr.Row():\n",
    "        speak_checkbox = gr.Checkbox(\n",
    "            label=\"Read responses aloud\",\n",
    "            value=True,\n",
    "            interactive=True\n",
    "        )\n",
    "        language_dropdown = gr.Dropdown(\n",
    "            choices=list(LANGUAGES.keys()),\n",
    "            value=\"Spanish\",\n",
    "            label=\"Translation Language\",\n",
    "            interactive=True\n",
    "        )\n",
    "        speech_language = gr.Radio(\n",
    "            choices=[\"Original\", \"Translated\"],\n",
    "            value=\"Original\",\n",
    "            label=\"Speech Language\",\n",
    "            interactive=True\n",
    "        )\n",
    "    \n",
    "    # Add audio player\n",
    "    audio_player = gr.Audio(label=\"Response Audio\", visible=True)\n",
    "    \n",
    "    with gr.Row():\n",
    "        with gr.Column():\n",
    "            gr.Markdown(\"### Original Conversation\")\n",
    "            chatbot_original = gr.Chatbot(type=\"messages\")\n",
    "            msg_original = gr.Textbox(label=\"Message\")\n",
    "            send_btn = gr.Button(\"Send\")\n",
    "        \n",
    "        with gr.Column():\n",
    "            gr.Markdown(\"### Translated Conversation\")\n",
    "            chatbot_translated = gr.Chatbot(type=\"messages\")\n",
    "    \n",
    "    state = gr.State([])\n",
    "    \n",
    "    def respond(message, history, current_speech_mode):\n",
    "        bot_response, history_original, history_translated, audio_path = process_message(\n",
    "            message, \n",
    "            history,\n",
    "            current_speech_mode\n",
    "        )\n",
    "        \n",
    "        return \"\", history_original, history_translated, audio_path\n",
    "    \n",
    "    send_btn.click(\n",
    "        respond,\n",
    "        inputs=[msg_original, state, speech_language],\n",
    "        outputs=[msg_original, chatbot_original, chatbot_translated, audio_player],\n",
    "    )\n",
    "    \n",
    "    msg_original.submit(\n",
    "        respond,\n",
    "        inputs=[msg_original, state, speech_language],\n",
    "        outputs=[msg_original, chatbot_original, chatbot_translated, audio_player],\n",
    "    )\n",
    "    \n",
    "    speak_checkbox.change(fn=lambda x: setattr(chat_state, 'speak', x), inputs=[speak_checkbox])\n",
    "\n",
    "demo.launch()"
   ]
  }
 ],
 "metadata": {
  "kernelspec": {
   "display_name": "Python [conda env:base] *",
   "language": "python",
   "name": "conda-base-py"
  },
  "language_info": {
   "codemirror_mode": {
    "name": "ipython",
    "version": 3
   },
   "file_extension": ".py",
   "mimetype": "text/x-python",
   "name": "python",
   "nbconvert_exporter": "python",
   "pygments_lexer": "ipython3",
   "version": "3.12.7"
  }
 },
 "nbformat": 4,
 "nbformat_minor": 5
}
