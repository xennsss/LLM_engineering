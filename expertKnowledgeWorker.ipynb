{
  "cells": [
    {
      "cell_type": "markdown",
      "id": "dfe37963-1af6-44fc-a841-8e462443f5e6",
      "metadata": {
        "id": "dfe37963-1af6-44fc-a841-8e462443f5e6"
      },
      "source": [
        "## Expert Knowledge Worker\n",
        "\n",
        "### A question answering agent that is an expert knowledge worker\n",
        "### To be used by employees of Insurellm, an Insurance Tech company\n",
        "### The agent needs to be accurate and the solution should be low cost.\n",
        "\n",
        "This project will use RAG (Retrieval Augmented Generation) to ensure our question/answering assistant has high accuracy.\n",
        "\n",
        "This first implementation will use a simple, brute-force type of RAG..\n",
        "\n",
        "### Sidenote: Business applications of this week's projects\n",
        "\n",
        "RAG is perhaps the most immediately applicable technique of anything that we cover in the course! In fact, there are commercial products that do precisely what we build this week: nuanced querying across large databases of information, such as company contracts or product specs. RAG gives you a quick-to-market, low cost mechanism for adapting an LLM to your business area."
      ]
    },
    {
      "cell_type": "code",
      "source": [
        "!pip install dotenv"
      ],
      "metadata": {
        "id": "vGV8OBGD6Qpr",
        "outputId": "0bc3ee4e-1d81-47f0-877f-7a6b424c4581",
        "colab": {
          "base_uri": "https://localhost:8080/"
        }
      },
      "id": "vGV8OBGD6Qpr",
      "execution_count": 2,
      "outputs": [
        {
          "output_type": "stream",
          "name": "stdout",
          "text": [
            "Collecting dotenv\n",
            "  Downloading dotenv-0.9.9-py2.py3-none-any.whl.metadata (279 bytes)\n",
            "Collecting python-dotenv (from dotenv)\n",
            "  Downloading python_dotenv-1.1.0-py3-none-any.whl.metadata (24 kB)\n",
            "Downloading dotenv-0.9.9-py2.py3-none-any.whl (1.9 kB)\n",
            "Downloading python_dotenv-1.1.0-py3-none-any.whl (20 kB)\n",
            "Installing collected packages: python-dotenv, dotenv\n",
            "Successfully installed dotenv-0.9.9 python-dotenv-1.1.0\n"
          ]
        }
      ]
    },
    {
      "cell_type": "code",
      "source": [
        "!pip install gradio"
      ],
      "metadata": {
        "id": "lBB-x1Cp6gDy",
        "outputId": "2a3e1107-e546-4907-a3fd-897565476768",
        "colab": {
          "base_uri": "https://localhost:8080/"
        }
      },
      "id": "lBB-x1Cp6gDy",
      "execution_count": 3,
      "outputs": [
        {
          "output_type": "stream",
          "name": "stdout",
          "text": [
            "Requirement already satisfied: gradio in /usr/local/lib/python3.11/dist-packages (5.31.0)\n",
            "Requirement already satisfied: aiofiles<25.0,>=22.0 in /usr/local/lib/python3.11/dist-packages (from gradio) (24.1.0)\n",
            "Requirement already satisfied: anyio<5.0,>=3.0 in /usr/local/lib/python3.11/dist-packages (from gradio) (4.9.0)\n",
            "Requirement already satisfied: fastapi<1.0,>=0.115.2 in /usr/local/lib/python3.11/dist-packages (from gradio) (0.115.12)\n",
            "Requirement already satisfied: ffmpy in /usr/local/lib/python3.11/dist-packages (from gradio) (0.6.0)\n",
            "Requirement already satisfied: gradio-client==1.10.1 in /usr/local/lib/python3.11/dist-packages (from gradio) (1.10.1)\n",
            "Requirement already satisfied: groovy~=0.1 in /usr/local/lib/python3.11/dist-packages (from gradio) (0.1.2)\n",
            "Requirement already satisfied: httpx>=0.24.1 in /usr/local/lib/python3.11/dist-packages (from gradio) (0.28.1)\n",
            "Requirement already satisfied: huggingface-hub>=0.28.1 in /usr/local/lib/python3.11/dist-packages (from gradio) (0.32.4)\n",
            "Requirement already satisfied: jinja2<4.0 in /usr/local/lib/python3.11/dist-packages (from gradio) (3.1.6)\n",
            "Requirement already satisfied: markupsafe<4.0,>=2.0 in /usr/local/lib/python3.11/dist-packages (from gradio) (3.0.2)\n",
            "Requirement already satisfied: numpy<3.0,>=1.0 in /usr/local/lib/python3.11/dist-packages (from gradio) (2.0.2)\n",
            "Requirement already satisfied: orjson~=3.0 in /usr/local/lib/python3.11/dist-packages (from gradio) (3.10.18)\n",
            "Requirement already satisfied: packaging in /usr/local/lib/python3.11/dist-packages (from gradio) (24.2)\n",
            "Requirement already satisfied: pandas<3.0,>=1.0 in /usr/local/lib/python3.11/dist-packages (from gradio) (2.2.2)\n",
            "Requirement already satisfied: pillow<12.0,>=8.0 in /usr/local/lib/python3.11/dist-packages (from gradio) (11.2.1)\n",
            "Requirement already satisfied: pydantic<2.12,>=2.0 in /usr/local/lib/python3.11/dist-packages (from gradio) (2.11.5)\n",
            "Requirement already satisfied: pydub in /usr/local/lib/python3.11/dist-packages (from gradio) (0.25.1)\n",
            "Requirement already satisfied: python-multipart>=0.0.18 in /usr/local/lib/python3.11/dist-packages (from gradio) (0.0.20)\n",
            "Requirement already satisfied: pyyaml<7.0,>=5.0 in /usr/local/lib/python3.11/dist-packages (from gradio) (6.0.2)\n",
            "Requirement already satisfied: ruff>=0.9.3 in /usr/local/lib/python3.11/dist-packages (from gradio) (0.11.12)\n",
            "Requirement already satisfied: safehttpx<0.2.0,>=0.1.6 in /usr/local/lib/python3.11/dist-packages (from gradio) (0.1.6)\n",
            "Requirement already satisfied: semantic-version~=2.0 in /usr/local/lib/python3.11/dist-packages (from gradio) (2.10.0)\n",
            "Requirement already satisfied: starlette<1.0,>=0.40.0 in /usr/local/lib/python3.11/dist-packages (from gradio) (0.46.2)\n",
            "Requirement already satisfied: tomlkit<0.14.0,>=0.12.0 in /usr/local/lib/python3.11/dist-packages (from gradio) (0.13.2)\n",
            "Requirement already satisfied: typer<1.0,>=0.12 in /usr/local/lib/python3.11/dist-packages (from gradio) (0.16.0)\n",
            "Requirement already satisfied: typing-extensions~=4.0 in /usr/local/lib/python3.11/dist-packages (from gradio) (4.14.0)\n",
            "Requirement already satisfied: uvicorn>=0.14.0 in /usr/local/lib/python3.11/dist-packages (from gradio) (0.34.3)\n",
            "Requirement already satisfied: fsspec in /usr/local/lib/python3.11/dist-packages (from gradio-client==1.10.1->gradio) (2025.3.2)\n",
            "Requirement already satisfied: websockets<16.0,>=10.0 in /usr/local/lib/python3.11/dist-packages (from gradio-client==1.10.1->gradio) (15.0.1)\n",
            "Requirement already satisfied: idna>=2.8 in /usr/local/lib/python3.11/dist-packages (from anyio<5.0,>=3.0->gradio) (3.10)\n",
            "Requirement already satisfied: sniffio>=1.1 in /usr/local/lib/python3.11/dist-packages (from anyio<5.0,>=3.0->gradio) (1.3.1)\n",
            "Requirement already satisfied: certifi in /usr/local/lib/python3.11/dist-packages (from httpx>=0.24.1->gradio) (2025.4.26)\n",
            "Requirement already satisfied: httpcore==1.* in /usr/local/lib/python3.11/dist-packages (from httpx>=0.24.1->gradio) (1.0.9)\n",
            "Requirement already satisfied: h11>=0.16 in /usr/local/lib/python3.11/dist-packages (from httpcore==1.*->httpx>=0.24.1->gradio) (0.16.0)\n",
            "Requirement already satisfied: filelock in /usr/local/lib/python3.11/dist-packages (from huggingface-hub>=0.28.1->gradio) (3.18.0)\n",
            "Requirement already satisfied: requests in /usr/local/lib/python3.11/dist-packages (from huggingface-hub>=0.28.1->gradio) (2.32.3)\n",
            "Requirement already satisfied: tqdm>=4.42.1 in /usr/local/lib/python3.11/dist-packages (from huggingface-hub>=0.28.1->gradio) (4.67.1)\n",
            "Requirement already satisfied: hf-xet<2.0.0,>=1.1.2 in /usr/local/lib/python3.11/dist-packages (from huggingface-hub>=0.28.1->gradio) (1.1.2)\n",
            "Requirement already satisfied: python-dateutil>=2.8.2 in /usr/local/lib/python3.11/dist-packages (from pandas<3.0,>=1.0->gradio) (2.9.0.post0)\n",
            "Requirement already satisfied: pytz>=2020.1 in /usr/local/lib/python3.11/dist-packages (from pandas<3.0,>=1.0->gradio) (2025.2)\n",
            "Requirement already satisfied: tzdata>=2022.7 in /usr/local/lib/python3.11/dist-packages (from pandas<3.0,>=1.0->gradio) (2025.2)\n",
            "Requirement already satisfied: annotated-types>=0.6.0 in /usr/local/lib/python3.11/dist-packages (from pydantic<2.12,>=2.0->gradio) (0.7.0)\n",
            "Requirement already satisfied: pydantic-core==2.33.2 in /usr/local/lib/python3.11/dist-packages (from pydantic<2.12,>=2.0->gradio) (2.33.2)\n",
            "Requirement already satisfied: typing-inspection>=0.4.0 in /usr/local/lib/python3.11/dist-packages (from pydantic<2.12,>=2.0->gradio) (0.4.1)\n",
            "Requirement already satisfied: click>=8.0.0 in /usr/local/lib/python3.11/dist-packages (from typer<1.0,>=0.12->gradio) (8.2.1)\n",
            "Requirement already satisfied: shellingham>=1.3.0 in /usr/local/lib/python3.11/dist-packages (from typer<1.0,>=0.12->gradio) (1.5.4)\n",
            "Requirement already satisfied: rich>=10.11.0 in /usr/local/lib/python3.11/dist-packages (from typer<1.0,>=0.12->gradio) (13.9.4)\n",
            "Requirement already satisfied: six>=1.5 in /usr/local/lib/python3.11/dist-packages (from python-dateutil>=2.8.2->pandas<3.0,>=1.0->gradio) (1.17.0)\n",
            "Requirement already satisfied: markdown-it-py>=2.2.0 in /usr/local/lib/python3.11/dist-packages (from rich>=10.11.0->typer<1.0,>=0.12->gradio) (3.0.0)\n",
            "Requirement already satisfied: pygments<3.0.0,>=2.13.0 in /usr/local/lib/python3.11/dist-packages (from rich>=10.11.0->typer<1.0,>=0.12->gradio) (2.19.1)\n",
            "Requirement already satisfied: charset-normalizer<4,>=2 in /usr/local/lib/python3.11/dist-packages (from requests->huggingface-hub>=0.28.1->gradio) (3.4.2)\n",
            "Requirement already satisfied: urllib3<3,>=1.21.1 in /usr/local/lib/python3.11/dist-packages (from requests->huggingface-hub>=0.28.1->gradio) (2.4.0)\n",
            "Requirement already satisfied: mdurl~=0.1 in /usr/local/lib/python3.11/dist-packages (from markdown-it-py>=2.2.0->rich>=10.11.0->typer<1.0,>=0.12->gradio) (0.1.2)\n"
          ]
        }
      ]
    },
    {
      "cell_type": "code",
      "execution_count": 4,
      "id": "ba2779af-84ef-4227-9e9e-6eaf0df87e77",
      "metadata": {
        "id": "ba2779af-84ef-4227-9e9e-6eaf0df87e77"
      },
      "outputs": [],
      "source": [
        "# imports\n",
        "\n",
        "import os\n",
        "import glob\n",
        "from dotenv import load_dotenv\n",
        "import gradio as gr\n",
        "from openai import OpenAI"
      ]
    },
    {
      "cell_type": "code",
      "execution_count": null,
      "id": "58c85082-e417-4708-9efe-81a5d55d1424",
      "metadata": {
        "id": "58c85082-e417-4708-9efe-81a5d55d1424"
      },
      "outputs": [],
      "source": [
        "# price is a factor for our company, so we're going to use a low cost model\n",
        "\n",
        "MODEL = \"gpt-4o-mini\""
      ]
    },
    {
      "cell_type": "code",
      "source": [
        "MODEL = \"llama3.2\"\n",
        "llama = OpenAI(base_url=\"http://localhost:11434/v1\", api_key=\"ollama\")"
      ],
      "metadata": {
        "id": "5ydHHYUx6pY2"
      },
      "id": "5ydHHYUx6pY2",
      "execution_count": 5,
      "outputs": []
    },
    {
      "cell_type": "code",
      "execution_count": 6,
      "id": "ee78efcb-60fe-449e-a944-40bab26261af",
      "metadata": {
        "id": "ee78efcb-60fe-449e-a944-40bab26261af"
      },
      "outputs": [],
      "source": [
        "# Load environment variables in a file called .env\n",
        "\n",
        "load_dotenv(override=True)\n",
        "os.environ['OPENAI_API_KEY'] = os.getenv('OPENAI_API_KEY', 'your-key-if-not-using-env')\n",
        "openai = OpenAI()"
      ]
    },
    {
      "cell_type": "code",
      "execution_count": 7,
      "id": "9e0652c2-3d76-40c7-8313-9dc1895155a8",
      "metadata": {
        "id": "9e0652c2-3d76-40c7-8313-9dc1895155a8"
      },
      "outputs": [],
      "source": [
        "# With massive thanks to student Dr John S. for fixing a bug in the below for Windows users!\n",
        "\n",
        "context = {}\n",
        "\n",
        "employees = glob.glob(\"knowledge-base/employees/*\")\n",
        "\n",
        "for employee in employees:\n",
        "    name = employee.split(' ')[-1][:-3]\n",
        "    doc = \"\"\n",
        "    with open(employee, \"r\", encoding=\"utf-8\") as f:\n",
        "        doc = f.read()\n",
        "    context[name]=doc"
      ]
    },
    {
      "cell_type": "code",
      "execution_count": 8,
      "id": "2c85a11b-b04d-4066-b243-f96139ca106f",
      "metadata": {
        "id": "2c85a11b-b04d-4066-b243-f96139ca106f",
        "outputId": "67b88bab-1f56-4c06-ef5b-895c463e9ec1",
        "colab": {
          "base_uri": "https://localhost:8080/",
          "height": 141
        }
      },
      "outputs": [
        {
          "output_type": "error",
          "ename": "KeyError",
          "evalue": "'Lancaster'",
          "traceback": [
            "\u001b[0;31m---------------------------------------------------------------------------\u001b[0m",
            "\u001b[0;31mKeyError\u001b[0m                                  Traceback (most recent call last)",
            "\u001b[0;32m<ipython-input-8-3630740497>\u001b[0m in \u001b[0;36m<cell line: 0>\u001b[0;34m()\u001b[0m\n\u001b[0;32m----> 1\u001b[0;31m \u001b[0mcontext\u001b[0m\u001b[0;34m[\u001b[0m\u001b[0;34m\"Lancaster\"\u001b[0m\u001b[0;34m]\u001b[0m\u001b[0;34m\u001b[0m\u001b[0;34m\u001b[0m\u001b[0m\n\u001b[0m",
            "\u001b[0;31mKeyError\u001b[0m: 'Lancaster'"
          ]
        }
      ],
      "source": [
        "context[\"Lancaster\"]"
      ]
    },
    {
      "cell_type": "code",
      "execution_count": null,
      "id": "a1d231f9-091e-4c72-b0f8-6af578a74e22",
      "metadata": {
        "id": "a1d231f9-091e-4c72-b0f8-6af578a74e22"
      },
      "outputs": [],
      "source": [
        "products = glob.glob(\"knowledge-base/products/*\")\n",
        "\n",
        "for product in products:\n",
        "    name = product.split(os.sep)[-1][:-3]\n",
        "    doc = \"\"\n",
        "    with open(product, \"r\", encoding=\"utf-8\") as f:\n",
        "        doc = f.read()\n",
        "    context[name]=doc"
      ]
    },
    {
      "cell_type": "code",
      "execution_count": null,
      "id": "aba46a57-d973-4195-8fe3-70fc60687192",
      "metadata": {
        "id": "aba46a57-d973-4195-8fe3-70fc60687192"
      },
      "outputs": [],
      "source": [
        "context.keys()"
      ]
    },
    {
      "cell_type": "code",
      "execution_count": null,
      "id": "129c7d1e-0094-4479-9459-f9360b95f244",
      "metadata": {
        "id": "129c7d1e-0094-4479-9459-f9360b95f244"
      },
      "outputs": [],
      "source": [
        "system_message = \"You are an expert in answering accurate questions about Insurellm, the Insurance Tech company. Give brief, accurate answers. If you don't know the answer, say so. Do not make anything up if you haven't been provided with relevant context.\""
      ]
    },
    {
      "cell_type": "code",
      "execution_count": null,
      "id": "d40e390b-c110-42d5-8d80-daf3295b9862",
      "metadata": {
        "id": "d40e390b-c110-42d5-8d80-daf3295b9862"
      },
      "outputs": [],
      "source": [
        "def get_relevant_context(message):\n",
        "    relevant_context = []\n",
        "    for context_title, context_details in context.items():\n",
        "        if context_title.lower() in message.lower():\n",
        "            relevant_context.append(context_details)\n",
        "    return relevant_context"
      ]
    },
    {
      "cell_type": "code",
      "execution_count": null,
      "id": "d126cfcb-e85c-4dd9-837e-9d2b8436d4b1",
      "metadata": {
        "id": "d126cfcb-e85c-4dd9-837e-9d2b8436d4b1"
      },
      "outputs": [],
      "source": [
        "get_relevant_context(\"Who is lancaster?\")"
      ]
    },
    {
      "cell_type": "code",
      "execution_count": null,
      "id": "d94c768d-c47a-4c34-85e9-7b786da96507",
      "metadata": {
        "id": "d94c768d-c47a-4c34-85e9-7b786da96507"
      },
      "outputs": [],
      "source": [
        "get_relevant_context(\"Who is Avery and what is carllm?\")"
      ]
    },
    {
      "cell_type": "code",
      "execution_count": null,
      "id": "5a7cef7f-f214-4bac-8217-3f9ab9ba1bf0",
      "metadata": {
        "id": "5a7cef7f-f214-4bac-8217-3f9ab9ba1bf0"
      },
      "outputs": [],
      "source": [
        "def add_context(message):\n",
        "    relevant_context = get_relevant_context(message)\n",
        "    if relevant_context:\n",
        "        message += \"\\n\\nThe following additional context might be relevant in answering this question:\\n\\n\"\n",
        "        for relevant in relevant_context:\n",
        "            message += relevant + \"\\n\\n\"\n",
        "    return message"
      ]
    },
    {
      "cell_type": "code",
      "execution_count": null,
      "id": "2b36399c-440b-4049-9d39-68d208283c71",
      "metadata": {
        "id": "2b36399c-440b-4049-9d39-68d208283c71"
      },
      "outputs": [],
      "source": [
        "print(add_context(\"Who is Alex Lancaster?\"))"
      ]
    },
    {
      "cell_type": "code",
      "execution_count": null,
      "id": "968e7bf2-e862-4679-a11f-6c1efb6ec8ca",
      "metadata": {
        "id": "968e7bf2-e862-4679-a11f-6c1efb6ec8ca"
      },
      "outputs": [],
      "source": [
        "def chat(message, history):\n",
        "    messages = [{\"role\": \"system\", \"content\": system_message}] + history\n",
        "    message = add_context(message)\n",
        "    messages.append({\"role\": \"user\", \"content\": message})\n",
        "\n",
        "    stream = openai.chat.completions.create(model=MODEL, messages=messages, stream=True)\n",
        "\n",
        "    response = \"\"\n",
        "    for chunk in stream:\n",
        "        response += chunk.choices[0].delta.content or ''\n",
        "        yield response"
      ]
    },
    {
      "cell_type": "markdown",
      "id": "bbbcb659-13ce-47ab-8a5e-01b930494964",
      "metadata": {
        "id": "bbbcb659-13ce-47ab-8a5e-01b930494964"
      },
      "source": [
        "## Now we will bring this up in Gradio using the Chat interface -\n",
        "\n",
        "A quick and easy way to prototype a chat with an LLM"
      ]
    },
    {
      "cell_type": "code",
      "execution_count": null,
      "id": "c3536590-85c7-4155-bd87-ae78a1467670",
      "metadata": {
        "id": "c3536590-85c7-4155-bd87-ae78a1467670"
      },
      "outputs": [],
      "source": [
        "view = gr.ChatInterface(chat, type=\"messages\").launch()"
      ]
    },
    {
      "cell_type": "code",
      "execution_count": null,
      "id": "48873d11-2fbd-4329-af27-46c781788561",
      "metadata": {
        "id": "48873d11-2fbd-4329-af27-46c781788561"
      },
      "outputs": [],
      "source": []
    }
  ],
  "metadata": {
    "kernelspec": {
      "display_name": "Python 3 (ipykernel)",
      "language": "python",
      "name": "python3"
    },
    "language_info": {
      "codemirror_mode": {
        "name": "ipython",
        "version": 3
      },
      "file_extension": ".py",
      "mimetype": "text/x-python",
      "name": "python",
      "nbconvert_exporter": "python",
      "pygments_lexer": "ipython3",
      "version": "3.11.11"
    },
    "colab": {
      "provenance": []
    }
  },
  "nbformat": 4,
  "nbformat_minor": 5
}